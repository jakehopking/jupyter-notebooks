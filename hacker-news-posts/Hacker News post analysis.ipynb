{
 "cells": [
  {
   "cell_type": "markdown",
   "metadata": {},
   "source": [
    "# Hacker News post analysis\n",
    "\n",
    "[Data source](https://www.kaggle.com/hacker-news/hacker-news-posts)\n",
    "\n",
    "Below are descriptions of the columns:\n",
    "\n",
    "- `id`: The unique identifier from Hacker News for the post\n",
    "- `title`: The title of the post\n",
    "- `url`: The URL that the posts links to, if it the post has a URL\n",
    "- `num_points`: The number of points the post acquired, calculated as the total number of upvotes minus the total number of downvotes\n",
    "- `num_comments`: The number of comments that were made on the post\n",
    "- `author`: The username of the person who submitted the post\n",
    "- `created_at`: The date and time at which the post was submitted\n",
    "\n",
    "We're specifically interested in posts whose titles begin with either Ask HN or Show HN. Users submit Ask HN posts to ask the Hacker News community a specific question. Below are a couple examples:\n",
    "\n",
    "- Ask HN: How to improve my personal website?\n",
    "- Ask HN: Am I the only one outraged by Twitter shutting down share counts?\n",
    "- Ask HN: Aby recent changes to CSS that broke mobile?\n",
    "\n",
    "Likewise, users submit Show HN posts to show the Hacker News community a project, product, or just generally something interesting. Below are a couple of examples:\n",
    "\n",
    "- Show HN: Wio Link  ESP8266 Based Web of Things Hardware Development Platform'\n",
    "- Show HN: Something pointless I made\n",
    "- Show HN: Shanhu.io, a programming playground powered by e8vm\n",
    "\n",
    "## Goal\n",
    "\n",
    "We'll compare these two types of posts to determine the following:\n",
    "\n",
    "- Do Ask HN or Show HN receive more comments on average?\n",
    "- Do posts created at a certain time receive more comments on average?\n",
    "\n",
    "Let's start by importing the libraries we need and reading the data set into a list of lists."
   ]
  },
  {
   "cell_type": "code",
   "execution_count": 4,
   "metadata": {},
   "outputs": [
    {
     "name": "stdout",
     "output_type": "stream",
     "text": [
      "[['id', 'title', 'url', 'num_points', 'num_comments', 'author', 'created_at'], ['12579008', 'You have two days to comment if you want stem cells to be classified as your own', 'http://www.regulations.gov/document?D=FDA-2015-D-3719-0018', '1', '0', 'altstar', '9/26/2016 3:26'], ['12579005', 'SQLAR  the SQLite Archiver', 'https://www.sqlite.org/sqlar/doc/trunk/README.md', '1', '0', 'blacksqr', '9/26/2016 3:24'], ['12578997', 'What if we just printed a flatscreen television on the side of our boxes?', 'https://medium.com/vanmoof/our-secrets-out-f21c1f03fdc8#.ietxmez43', '1', '0', 'pavel_lishin', '9/26/2016 3:19']]\n"
     ]
    }
   ],
   "source": [
    "from csv import reader\n",
    "opened_file = open('HN_posts_year_to_Sep_26_2016.csv')\n",
    "read_file = reader(opened_file)\n",
    "hn = list(read_file)\n",
    "\n",
    "print(hn[:4])"
   ]
  },
  {
   "cell_type": "markdown",
   "metadata": {},
   "source": [
    "Let's seperate data into `hn_header` for the title row, and `hn` for the data."
   ]
  },
  {
   "cell_type": "code",
   "execution_count": 16,
   "metadata": {},
   "outputs": [
    {
     "name": "stdout",
     "output_type": "stream",
     "text": [
      "1 293115\n"
     ]
    }
   ],
   "source": [
    "hn_header = hn[:1]\n",
    "hn = hn[1:]\n",
    "\n",
    "print(len(hn_header), len(hn))"
   ]
  },
  {
   "cell_type": "markdown",
   "metadata": {},
   "source": [
    "Now that we've removed the headers from hn, we're ready to filter our data. Since we're only concerned with post titles beginning with `Ask HN` or `Show HN`, we'll create new lists of lists containing just the data for those titles.\n",
    "\n",
    "To find the posts that begin with either `Ask HN` or `Show HN`, we'll use the string method `startswith`.\n",
    "\n",
    "We will filter the `hn` dataset into three smaller sets: `ask_posts`, `show_posts` and `other_posts`."
   ]
  },
  {
   "cell_type": "code",
   "execution_count": 17,
   "metadata": {},
   "outputs": [
    {
     "name": "stdout",
     "output_type": "stream",
     "text": [
      "9139 10158 273818\n"
     ]
    }
   ],
   "source": [
    "ask_posts = []\n",
    "show_posts = []\n",
    "other_posts = []\n",
    "\n",
    "for row in hn:\n",
    "    title = row[1].lower()\n",
    "    if title.startswith('ask hn'):\n",
    "        ask_posts.append(row)\n",
    "    elif title.startswith('show hn'):\n",
    "        show_posts.append(row)\n",
    "    else:\n",
    "        other_posts.append(row)\n",
    "        \n",
    "print(len(ask_posts), len(show_posts), len(other_posts))"
   ]
  },
  {
   "cell_type": "markdown",
   "metadata": {},
   "source": [
    "Print first 5 rows of each dataset for the most basic of confirmation that the filtering was successful."
   ]
  },
  {
   "cell_type": "code",
   "execution_count": 19,
   "metadata": {},
   "outputs": [
    {
     "name": "stdout",
     "output_type": "stream",
     "text": [
      "[['12578908', 'Ask HN: What TLD do you use for local development?', '', '4', '7', 'Sevrene', '9/26/2016 2:53'], ['12578522', 'Ask HN: How do you pass on your work when you die?', '', '6', '3', 'PascLeRasc', '9/26/2016 1:17'], ['12577908', 'Ask HN: How a DNS problem can be limited to a geographic region?', '', '1', '0', 'kuon', '9/25/2016 22:57'], ['12577870', 'Ask HN: Why join a fund when you can be an angel?', '', '1', '3', 'anthony_james', '9/25/2016 22:48'], ['12577647', 'Ask HN: Someone uses stock trading as passive income?', '', '5', '2', '00taffe', '9/25/2016 21:50']]\n",
      "====================================================================================================\n",
      "[['12578335', 'Show HN: Finding puns computationally', 'http://puns.samueltaylor.org/', '2', '0', 'saamm', '9/26/2016 0:36'], ['12578182', 'Show HN: A simple library for complicated animations', 'https://christinecha.github.io/choreographer-js/', '1', '0', 'christinecha', '9/26/2016 0:01'], ['12578098', 'Show HN: WebGL visualization of DNA sequences', 'http://grondilu.github.io/dna.html', '1', '0', 'grondilu', '9/25/2016 23:44'], ['12577991', 'Show HN: Pomodoro-centric, heirarchical project management with ES6 modules', 'https://github.com/jakebian/zeal', '2', '0', 'dbranes', '9/25/2016 23:17'], ['12577142', 'Show HN: Jumble  Essays on the go #PaulInYourPocket', 'https://itunes.apple.com/us/app/jumble-find-startup-essay/id1150939197?ls=1&mt=8', '1', '1', 'ryderj', '9/25/2016 20:06']]\n",
      "====================================================================================================\n",
      "[['12579005', 'SQLAR  the SQLite Archiver', 'https://www.sqlite.org/sqlar/doc/trunk/README.md', '1', '0', 'blacksqr', '9/26/2016 3:24'], ['12578997', 'What if we just printed a flatscreen television on the side of our boxes?', 'https://medium.com/vanmoof/our-secrets-out-f21c1f03fdc8#.ietxmez43', '1', '0', 'pavel_lishin', '9/26/2016 3:19'], ['12578989', 'algorithmic music', 'http://cacm.acm.org/magazines/2011/7/109891-algorithmic-composition/fulltext', '1', '0', 'poindontcare', '9/26/2016 3:16'], ['12578979', 'How the Data Vault Enables the Next-Gen Data Warehouse and Data Lake', 'https://www.talend.com/blog/2016/05/12/talend-and-Â\\x93the-data-vaultÂ\\x94', '1', '0', 'markgainor1', '9/26/2016 3:14'], ['12578975', 'Saving the Hassle of Shopping', 'https://blog.menswr.com/2016/09/07/whats-new-with-your-style-feed/', '1', '1', 'bdoux', '9/26/2016 3:13']]\n"
     ]
    }
   ],
   "source": [
    "print(ask_posts[:5])\n",
    "print(\"=\" * 100)\n",
    "print(show_posts[:5])\n",
    "print(\"=\" * 100)\n",
    "print(other_posts[:5])"
   ]
  },
  {
   "cell_type": "markdown",
   "metadata": {},
   "source": [
    "Next, let's determine if ask posts or show posts receive more comments on average."
   ]
  },
  {
   "cell_type": "code",
   "execution_count": 23,
   "metadata": {},
   "outputs": [
    {
     "name": "stdout",
     "output_type": "stream",
     "text": [
      "94986\n",
      "49633\n",
      "Avg for ask: 10.393478498741656 Avg for show: 4.886099625910612\n"
     ]
    }
   ],
   "source": [
    "total_ask_comments = 0\n",
    "total_show_comments = 0\n",
    "\n",
    "for row in ask_posts:\n",
    "    num_comment = int(row[4])\n",
    "    total_ask_comments += num_comment\n",
    "print(total_ask_comments)\n",
    "\n",
    "for row in show_posts:\n",
    "    num_comment = int(row[4])\n",
    "    total_show_comments += num_comment\n",
    "print(total_show_comments)\n",
    "\n",
    "avg_ask_comments = total_ask_comments / len(ask_posts)\n",
    "avg_show_comments = total_show_comments / len(show_posts)\n",
    "\n",
    "print('Avg for ask:', avg_ask_comments, 'Avg for show:', avg_show_comments)"
   ]
  },
  {
   "cell_type": "markdown",
   "metadata": {},
   "source": [
    "There are over 2X the number of comments for `Ask HN` posts `[10.39]` compared to `Show HN` posts `[4.88]`.\n",
    "\n",
    "Since ask posts are more likely to receive comments, we'll focus our remaining analysis just on these posts.\n",
    "\n",
    "Next, we'll determine if ask posts created at a certain time are more likely to attract comments. We'll use the following steps to perform this analysis:\n",
    "\n",
    "- Calculate the amount of ask posts created in each hour of the day, along with the number of comments received.\n",
    "- Calculate the average number of comments ask posts receive by hour created.\n",
    "\n",
    "Let's calculate the amount of ask posts created per hour, along with the total amount of comments."
   ]
  },
  {
   "cell_type": "code",
   "execution_count": 51,
   "metadata": {},
   "outputs": [
    {
     "name": "stdout",
     "output_type": "stream",
     "text": [
      "02 : 269\n",
      "01 : 282\n",
      "22 : 383\n",
      "21 : 518\n",
      "19 : 552\n",
      "17 : 587\n",
      "15 : 646\n",
      "14 : 513\n",
      "13 : 444\n",
      "11 : 312\n",
      "10 : 282\n",
      "09 : 222\n",
      "07 : 226\n",
      "03 : 271\n",
      "23 : 343\n",
      "20 : 510\n",
      "16 : 579\n",
      "08 : 257\n",
      "00 : 301\n",
      "18 : 614\n",
      "12 : 342\n",
      "04 : 243\n",
      "06 : 234\n",
      "05 : 209\n",
      "==============================================================================================================\n",
      "02 : 2996\n",
      "01 : 2089\n",
      "22 : 3372\n",
      "21 : 4500\n",
      "19 : 3954\n",
      "17 : 5547\n",
      "15 : 18525\n",
      "14 : 4972\n",
      "13 : 7245\n",
      "11 : 2797\n",
      "10 : 3013\n",
      "09 : 1477\n",
      "07 : 1585\n",
      "03 : 2154\n",
      "23 : 2297\n",
      "20 : 4462\n",
      "16 : 4466\n",
      "08 : 2362\n",
      "00 : 2277\n",
      "18 : 4877\n",
      "12 : 4234\n",
      "04 : 2360\n",
      "06 : 1587\n",
      "05 : 1838\n"
     ]
    }
   ],
   "source": [
    "import datetime as dt\n",
    "\n",
    "result_list = []\n",
    "\n",
    "for row in ask_posts:\n",
    "    result_list.append([row[-1], int(row[4])])\n",
    "    \n",
    "# print(result_list[:5])\n",
    "\n",
    "counts_by_hour = {}\n",
    "comments_by_hour = {}\n",
    "\n",
    "for row in result_list:\n",
    "#     date, time = row[0].split()\n",
    "    time = row[0]\n",
    "    time = dt.datetime.strptime(time, \"%m/%d/%Y %H:%M\")\n",
    "    hour = time.strftime('%H')\n",
    "    if hour not in counts_by_hour:\n",
    "        counts_by_hour[hour] = 1\n",
    "        comments_by_hour[hour] = row[1]\n",
    "    else:\n",
    "        counts_by_hour[hour] += 1\n",
    "        comments_by_hour[hour] += row[1]\n",
    "\n",
    "for key in counts_by_hour:\n",
    "    print(key, ':', counts_by_hour[key])\n",
    "print(\"=\" * 110)\n",
    "for key in comments_by_hour:\n",
    "    print(key, ':', comments_by_hour[key])"
   ]
  },
  {
   "cell_type": "markdown",
   "metadata": {},
   "source": [
    "We've produced two dictionaries:\n",
    "\n",
    "- `counts_by_hour`: contains the number of ask posts created during each hour of the day.\n",
    "- `comments_by_hour`: contains the corresponding number of comments ask posts created at each hour received.\n",
    "\n",
    "Next, we'll use these two dictionaries to calculate the average number of comments for posts created during each hour of the day. "
   ]
  },
  {
   "cell_type": "code",
   "execution_count": 60,
   "metadata": {},
   "outputs": [
    {
     "name": "stdout",
     "output_type": "stream",
     "text": [
      "['00', 7.5647840531561465]\n",
      "['01', 7.407801418439717]\n",
      "['02', 11.137546468401487]\n",
      "['03', 7.948339483394834]\n",
      "['04', 9.7119341563786]\n",
      "['05', 8.794258373205741]\n",
      "['06', 6.782051282051282]\n",
      "['07', 7.013274336283186]\n",
      "['08', 9.190661478599221]\n",
      "['09', 6.653153153153153]\n",
      "['10', 10.684397163120567]\n",
      "['11', 8.96474358974359]\n",
      "['12', 12.380116959064328]\n",
      "['13', 16.31756756756757]\n",
      "['14', 9.692007797270955]\n",
      "['15', 28.676470588235293]\n",
      "['16', 7.713298791018998]\n",
      "['17', 9.449744463373083]\n",
      "['18', 7.94299674267101]\n",
      "['19', 7.163043478260869]\n",
      "['20', 8.749019607843136]\n",
      "['21', 8.687258687258687]\n",
      "['22', 8.804177545691905]\n",
      "['23', 6.696793002915452]\n"
     ]
    }
   ],
   "source": [
    "avg_by_hour = []\n",
    "\n",
    "for key in comments_by_hour:\n",
    "    avg_by_hour.append([key, (comments_by_hour[key] / counts_by_hour[key])])\n",
    "    \n",
    "sort_avg_by_hour = sorted(avg_by_hour)\n",
    "\n",
    "for row in sort_avg_by_hour:\n",
    "    print(row)"
   ]
  },
  {
   "cell_type": "markdown",
   "metadata": {},
   "source": [
    "This is difficult to read to value which is important to us.  Let's swap the values..."
   ]
  },
  {
   "cell_type": "code",
   "execution_count": 83,
   "metadata": {},
   "outputs": [
    {
     "name": "stdout",
     "output_type": "stream",
     "text": [
      "The top 10 Hour slots for Ask Posts Comments\n",
      "==============================================================================================================\n",
      "01: at 15:00: on average there were 28.68 comments per post\n",
      "02: at 13:00: on average there were 16.32 comments per post\n",
      "03: at 12:00: on average there were 12.38 comments per post\n",
      "04: at 02:00: on average there were 11.14 comments per post\n",
      "05: at 10:00: on average there were 10.68 comments per post\n",
      "06: at 04:00: on average there were 9.71 comments per post\n",
      "07: at 14:00: on average there were 9.69 comments per post\n",
      "08: at 17:00: on average there were 9.45 comments per post\n",
      "09: at 08:00: on average there were 9.19 comments per post\n",
      "10: at 11:00: on average there were 8.96 comments per post\n"
     ]
    }
   ],
   "source": [
    "swp_avg_by_hour = []\n",
    "\n",
    "for row in avg_by_hour:\n",
    "    swp_avg_by_hour.append([row[1], row[0]])\n",
    "    \n",
    "# print(swp_avg_by_hour)\n",
    "\n",
    "sorted_swap = sorted(swp_avg_by_hour, reverse=True)\n",
    "\n",
    "print(\"The top 10 Hour slots for Ask Posts Comments\")\n",
    "print('=' * 110)\n",
    "for index, row in enumerate(sorted_swap[:10]):\n",
    "    count, time = row\n",
    "    time = dt.datetime.strptime(time, \"%H\")\n",
    "    time = time.strftime('%H:%M')\n",
    "    print(f\"{index+1:02}: at {time}: on average there were {count:.2f} comments per post\")"
   ]
  },
  {
   "cell_type": "markdown",
   "metadata": {},
   "source": [
    "### Timezone\n",
    "\n",
    "Bear in mind that the above times are only accurate to the user who created this dataset."
   ]
  },
  {
   "cell_type": "markdown",
   "metadata": {},
   "source": [
    "### Next steps\n",
    "\n",
    "- Find out in which timezone this data was generate, and then convert to locale.\n",
    "- Determine if show or ask posts receive more points on average.\n",
    "- Determine if posts created at a certain time are more likely to receive more points.\n",
    "- Compare your results to the average number of comments and points other posts receive."
   ]
  }
 ],
 "metadata": {
  "kernelspec": {
   "display_name": "Python 3",
   "language": "python",
   "name": "python3"
  },
  "language_info": {
   "codemirror_mode": {
    "name": "ipython",
    "version": 3
   },
   "file_extension": ".py",
   "mimetype": "text/x-python",
   "name": "python",
   "nbconvert_exporter": "python",
   "pygments_lexer": "ipython3",
   "version": "3.7.4"
  }
 },
 "nbformat": 4,
 "nbformat_minor": 2
}
